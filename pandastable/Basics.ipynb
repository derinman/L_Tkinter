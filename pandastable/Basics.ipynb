{
 "cells": [
  {
   "cell_type": "code",
   "execution_count": 1,
   "metadata": {},
   "outputs": [],
   "source": [
    "from tkinter import *\n",
    "from pandastable import Table, TableModel, config\n",
    "\n",
    "class TestApp(Frame):\n",
    "        \"\"\"Basic test frame for the table\"\"\"\n",
    "        def __init__(self, parent=None):\n",
    "            self.parent = parent\n",
    "            Frame.__init__(self)\n",
    "            self.main = self.master\n",
    "            self.main.geometry('600x400+200+100')\n",
    "            self.main.title('Table app')\n",
    "            f = Frame(self.main)\n",
    "            f.pack(fill=BOTH,expand=1)\n",
    "            \n",
    "            df = TableModel.getSampleData()\n",
    "            self.table = pt = Table(f, dataframe=df,\n",
    "                                    showtoolbar=True, showstatusbar=True)\n",
    "            # pt.textcolor = 'blue'\n",
    "            # pt.editable = False\n",
    "            pt.show()\n",
    "            #set some options\n",
    "            options = {'colheadercolor':'green','floatprecision': 5}\n",
    "            config.apply_options(options, pt)\n",
    "            pt.show()\n",
    "            return\n",
    "\n",
    "app = TestApp()\n",
    "#launch the app\n",
    "app.mainloop()"
   ]
  },
  {
   "cell_type": "code",
   "execution_count": 4,
   "metadata": {},
   "outputs": [],
   "source": [
    "# Sub-class the Table\n",
    "\n",
    "class MyTable(Table):\n",
    "    \"\"\"Custom table class inherits from Table. You can then override required methods\"\"\"\n",
    "\n",
    "    def __init__(self, parent=None, **kwargs):\n",
    "        Table.__init__(self, parent, **kwargs)\n",
    "        return\n",
    "\n",
    "    def handle_left_click(self, event):\n",
    "        \"\"\"Example - override left click\"\"\"\n",
    "\n",
    "        Table.handle_left_click(self, event)\n",
    "        # do custom code here\n",
    "        return\n",
    "\n",
    "    def popupMenu(self, event, rows=None, cols=None, outside=None):\n",
    "        \"\"\"Custom right click menu\"\"\"\n",
    "\n",
    "        popupmenu = Menu(self, tearoff=0)\n",
    "\n",
    "        def popupFocusOut(event):\n",
    "            popupmenu.unpost()\n",
    "            # add commands here\n",
    "        # self.app is a reference to the parent app\n",
    "        popupmenu.add_command(label='do stuff', command=self.app.stuff)\n",
    "        popupmenu.bind(\"<FocusOut>\", popupFocusOut)\n",
    "        popupmenu.focus_set()\n",
    "        popupmenu.post(event.x_root, event.y_root)\n",
    "        return popupmenu"
   ]
  },
  {
   "cell_type": "code",
   "execution_count": null,
   "metadata": {},
   "outputs": [],
   "source": []
  }
 ],
 "metadata": {
  "kernelspec": {
   "display_name": "base",
   "language": "python",
   "name": "python3"
  },
  "language_info": {
   "codemirror_mode": {
    "name": "ipython",
    "version": 3
   },
   "file_extension": ".py",
   "mimetype": "text/x-python",
   "name": "python",
   "nbconvert_exporter": "python",
   "pygments_lexer": "ipython3",
   "version": "3.11.4"
  },
  "orig_nbformat": 4
 },
 "nbformat": 4,
 "nbformat_minor": 2
}
