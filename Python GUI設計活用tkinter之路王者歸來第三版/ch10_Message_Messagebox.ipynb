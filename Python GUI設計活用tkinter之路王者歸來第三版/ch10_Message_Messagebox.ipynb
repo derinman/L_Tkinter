{
 "cells": [
  {
   "cell_type": "code",
   "execution_count": 1,
   "metadata": {},
   "outputs": [],
   "source": [
    "# ch10_1.py\n",
    "from tkinter import *\n",
    "\n",
    "root = Tk()\n",
    "root.title(\"ch10_1\")\n",
    "\n",
    "myText = \"2016年12月,我一個人訂了機票和船票,開始我的南極旅行\"\n",
    "msg = Message(root,bg=\"yellow\",text=myText,\n",
    "              font=\"times 12 italic\")\n",
    "msg.pack(padx=10,pady=10)\n",
    "\n",
    "root.mainloop()"
   ]
  },
  {
   "cell_type": "code",
   "execution_count": 2,
   "metadata": {},
   "outputs": [],
   "source": [
    "# ch10_2.py\n",
    "from tkinter import *\n",
    "\n",
    "root = Tk()\n",
    "root.title(\"ch10_2\")\n",
    "\n",
    "var = StringVar()\n",
    "msg = Message(root,textvariable=var,relief=RAISED)\n",
    "var.set(\"2016年12月,我一個人訂了機票和船票,開始我的南極旅行\")\n",
    "msg.pack(padx=10,pady=10)\n",
    "\n",
    "root.mainloop()"
   ]
  },
  {
   "cell_type": "code",
   "execution_count": 3,
   "metadata": {},
   "outputs": [],
   "source": [
    "# ch10_3.py\n",
    "from tkinter import *\n",
    "\n",
    "root = Tk()\n",
    "root.title(\"ch10_3\")\n",
    "\n",
    "var = StringVar()\n",
    "msg = Message(root,textvariable=var,relief=RAISED)\n",
    "var.set(\"2016年12月,我一個人訂了機票和船票,開始我的南極旅行\")\n",
    "msg.config(bg=\"yellow\")\n",
    "msg.pack(padx=10,pady=10)\n",
    "\n",
    "root.mainloop()"
   ]
  },
  {
   "cell_type": "code",
   "execution_count": 4,
   "metadata": {},
   "outputs": [],
   "source": [
    "# ch10_4.py\n",
    "from tkinter import *\n",
    "from tkinter import messagebox\n",
    "\n",
    "def myMsg():                    # 按Good Morning按鈕時執行\n",
    "    messagebox.showinfo(\"My Message Box\",\"Python tkinter早安\")\n",
    "    \n",
    "window = Tk()\n",
    "window.title(\"ch10_4\")          # 視窗標題\n",
    "window.geometry(\"300x160\")      # 視窗寬300高160\n",
    "\n",
    "Button(window,text=\"Good Morning\",command=myMsg).pack()\n",
    "\n",
    "window.mainloop()"
   ]
  },
  {
   "cell_type": "code",
   "execution_count": null,
   "metadata": {},
   "outputs": [],
   "source": [
    "# ch10_5.py\n",
    "from tkinter import *\n",
    "from tkinter import messagebox\n",
    "\n",
    "def myMsg1():\n",
    "    ret = messagebox.askretrycancel(\"Test1\",\"安裝失敗,再試一次?\")\n",
    "    print(\"安裝失敗\",ret)\n",
    "def myMsg2():\n",
    "    ret = messagebox.askyesnocancel(\"Test2\",\"編輯完成,是或否或取消?\")\n",
    "    print(\"編輯完成\",ret)\n",
    "root = Tk()\n",
    "root.title(\"ch10_5\")          # 視窗標題\n",
    "\n",
    "Button(root,text=\"安裝失敗\",command=myMsg1).pack()\n",
    "Button(root,text=\"編輯完成\",command=myMsg2).pack()\n",
    "\n",
    "root.mainloop()"
   ]
  }
 ],
 "metadata": {
  "interpreter": {
   "hash": "b3ba2566441a7c06988d0923437866b63cedc61552a5af99d1f4fb67d367b25f"
  },
  "kernelspec": {
   "display_name": "Python 3.7.4 ('base')",
   "language": "python",
   "name": "python3"
  },
  "language_info": {
   "codemirror_mode": {
    "name": "ipython",
    "version": 3
   },
   "file_extension": ".py",
   "mimetype": "text/x-python",
   "name": "python",
   "nbconvert_exporter": "python",
   "pygments_lexer": "ipython3",
   "version": "3.7.4"
  },
  "orig_nbformat": 4
 },
 "nbformat": 4,
 "nbformat_minor": 2
}
