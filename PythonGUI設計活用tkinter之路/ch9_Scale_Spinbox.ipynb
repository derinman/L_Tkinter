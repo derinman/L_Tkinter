{
 "cells": [
  {
   "cell_type": "code",
   "execution_count": 1,
   "metadata": {},
   "outputs": [],
   "source": [
    "# ch9_1.py\n",
    "from tkinter import *\n",
    "    \n",
    "window = Tk()\n",
    "window.title(\"ch9_1\")             # 視窗標題\n",
    "\n",
    "slider1 = Scale(window,from_=0,to=10).pack()\n",
    "slider2 = Scale(window,from_=0,to=10,\n",
    "                length=300,orient=HORIZONTAL).pack()\n",
    "\n",
    "window.mainloop()"
   ]
  },
  {
   "cell_type": "code",
   "execution_count": 2,
   "metadata": {},
   "outputs": [],
   "source": [
    "# ch9_2.py\n",
    "from tkinter import *\n",
    "    \n",
    "root = Tk()\n",
    "root.title(\"ch9_2\")                     # 視窗標題\n",
    "\n",
    "slider = Scale(root,\n",
    "               from_=0,                 # 起點值\n",
    "               to=10,                   # 終點值\n",
    "               troughcolor=\"yellow\",    # 槽的顏色\n",
    "               width=\"30\",              # 槽的高度\n",
    "               tickinterval=2,          # 刻度\n",
    "               label=\"My Scale\",        # Scale標籤\n",
    "               length=300,              # Scale長度\n",
    "               orient=HORIZONTAL)       # 水平\n",
    "slider.pack()\n",
    "\n",
    "root.mainloop()"
   ]
  },
  {
   "cell_type": "code",
   "execution_count": 3,
   "metadata": {},
   "outputs": [],
   "source": [
    "# ch9_3.py\n",
    "from tkinter import *\n",
    "\n",
    "def printInfo():\n",
    "    print(\"垂直捲軸值 = %d, 水平捲軸值 = %d\" % (sV.get(),sH.get()))\n",
    "    \n",
    "root = Tk()\n",
    "root.title(\"ch9_3\")                           # 視窗標題\n",
    "\n",
    "sV = Scale(root,label=\"垂直\",from_=0,to=10)   # 建立垂直卷軸\n",
    "sV.set(5)                                     # 設定垂直卷軸初值是5\n",
    "sV.pack()\n",
    "\n",
    "sH = Scale(root,label=\"水平\",from_=0,to=10,   # 建立水平卷軸\n",
    "                length=300,orient=HORIZONTAL)\n",
    "sH.set(3)                                     # 設定水平捲軸初值是3\n",
    "sH.pack()\n",
    "\n",
    "Button(root,text=\"Print\",command=printInfo).pack()\n",
    "\n",
    "root.mainloop()"
   ]
  },
  {
   "cell_type": "code",
   "execution_count": 4,
   "metadata": {},
   "outputs": [],
   "source": [
    "# ch9_4_1.py\n",
    "from tkinter import *\n",
    "from tkinter.colorchooser import *\n",
    "\n",
    "def bgUpdate():\n",
    "    ''' 更改視窗背景顏色 '''\n",
    "    myColor = askcolor()            # 列出色彩對話方塊\n",
    "    print(type(myColor),myColor)    # 列印傳回值\n",
    "    root.config(bg=myColor[1])      # 設定視窗背景顏色\n",
    "        \n",
    "root = Tk()\n",
    "root.title(\"ch9_4_1\")\n",
    "root.geometry(\"360x240\")\n",
    "\n",
    "btn = Button(text=\"Select Color\",command=bgUpdate)\n",
    "btn.pack(pady=5)\n",
    "\n",
    "root.mainloop()"
   ]
  },
  {
   "cell_type": "code",
   "execution_count": 5,
   "metadata": {},
   "outputs": [
    {
     "name": "stdout",
     "output_type": "stream",
     "text": [
      "R=0, G=125, B=0\n"
     ]
    }
   ],
   "source": [
    "# ch9_4.py\n",
    "from tkinter import *\n",
    "\n",
    "def bgUpdate(source):\n",
    "    ''' 更改視窗背景顏色 '''\n",
    "    red = rSlider.get()                             # 讀取red值\n",
    "    green = gSlider.get()                           # 讀取green值\n",
    "    blue = bSlider.get( )                           # 讀取blue值\n",
    "    print(\"R=%d, G=%d, B=%d\" % (red, green, blue))  # 列印色彩數值\n",
    "    myColor = \"#%02x%02x%02x\" % (red, green, blue)  # 將顏色轉成16進位字串\n",
    "    root.config(bg=myColor)                         # 設定視窗背景顏色\n",
    "    \n",
    "root = Tk()\n",
    "root.title(\"ch9_4\")\n",
    "root.geometry(\"360x240\")\n",
    "\n",
    "rSlider = Scale(root, from_=0, to=255, command=bgUpdate)\n",
    "gSlider = Scale(root, from_=0, to=255, command=bgUpdate)\n",
    "bSlider = Scale(root, from_=0, to=255, command=bgUpdate)\n",
    "gSlider.set(125)                                    # 設定green初值是125\n",
    "rSlider.grid(row=0, column=0)                       # row=0, col=0\n",
    "gSlider.grid(row=0, column=1)                       # row=0, col=1\n",
    "bSlider.grid(row=0, column=3)                       # row=0, col=2\n",
    "\n",
    "root.mainloop()"
   ]
  },
  {
   "cell_type": "code",
   "execution_count": 6,
   "metadata": {},
   "outputs": [
    {
     "name": "stdout",
     "output_type": "stream",
     "text": [
      "R=0, G=125, B=0\n"
     ]
    }
   ],
   "source": [
    "# ch9_5.py\n",
    "from tkinter import *\n",
    "def bgUpdate(source):\n",
    "    ''' 更改視窗背景顏色 '''\n",
    "    red = rSlider.get()                             # 讀取red值\n",
    "    green = gSlider.get()                           # 讀取green值\n",
    "    blue = bSlider.get( )                           # 讀取blue值\n",
    "    print(\"R=%d, G=%d, B=%d\" % (red, green, blue))  # 列印色彩數值\n",
    "    myColor = \"#%02x%02x%02x\" % (red, green, blue)  # 將顏色轉成16進位字串\n",
    "    root.config(bg=myColor)                         # 設定視窗背景顏色\n",
    "    \n",
    "root = Tk()\n",
    "root.title(\"ch9_5\")\n",
    "root.geometry(\"360x240\")\n",
    "\n",
    "fm = Frame(root)                                    # 建立框架\n",
    "fm.pack()                                           # 自動安置在上方中央\n",
    "\n",
    "rSlider = Scale(fm, from_=0, to=255, command=bgUpdate)\n",
    "gSlider = Scale(fm, from_=0, to=255, command=bgUpdate)\n",
    "bSlider = Scale(fm, from_=0, to=255, command=bgUpdate)\n",
    "gSlider.set(125)                                    # 設定green初值是125\n",
    "rSlider.grid(row=0, column=0)                       # row=0, col=0\n",
    "gSlider.grid(row=0, column=1)                       # row=0, col=1\n",
    "bSlider.grid(row=0, column=3)                       # row=0, col=2\n",
    "\n",
    "root.mainloop()"
   ]
  },
  {
   "cell_type": "code",
   "execution_count": 7,
   "metadata": {},
   "outputs": [],
   "source": [
    "# ch9_6.py\n",
    "from tkinter import *\n",
    "    \n",
    "root = Tk()\n",
    "root.title(\"ch9_6\")             # 視窗標題\n",
    "root.geometry(\"300x100\")\n",
    "spin = Spinbox(root,from_=10,to=30,increment=2)\n",
    "spin.pack(pady=20)\n",
    "\n",
    "root.mainloop()"
   ]
  },
  {
   "cell_type": "code",
   "execution_count": 8,
   "metadata": {},
   "outputs": [],
   "source": [
    "# ch9_7.py\n",
    "from tkinter import *\n",
    "\n",
    "def printInfo():        # 列印顯示的值\n",
    "    print(sp.get())\n",
    "    \n",
    "root = Tk()\n",
    "root.title(\"ch9_7\")\n",
    "\n",
    "sp = Spinbox(root,from_ = 0,to = 10,           \n",
    "             command = printInfo)\n",
    "sp.pack(pady=10,padx=10)\n",
    "\n",
    "root.mainloop()"
   ]
  },
  {
   "cell_type": "code",
   "execution_count": 9,
   "metadata": {},
   "outputs": [],
   "source": [
    "# ch9_8.py\n",
    "from tkinter import *\n",
    "\n",
    "def printInfo():                        # 列印顯示的值\n",
    "    print(sp.get())\n",
    "    \n",
    "root = Tk()\n",
    "root.title(\"ch9_8\")\n",
    "\n",
    "sp = Spinbox(root,\n",
    "             values=(10,38,170,101),    # 以元組儲存數值\n",
    "             command=printInfo)\n",
    "sp.pack(pady=10,padx=10)\n",
    "\n",
    "root.mainloop()"
   ]
  },
  {
   "cell_type": "code",
   "execution_count": 10,
   "metadata": {},
   "outputs": [],
   "source": [
    "# ch9_9.py\n",
    "from tkinter import *\n",
    "\n",
    "def printInfo():                        # 列印顯示的值\n",
    "    print(sp.get())\n",
    "    \n",
    "root = Tk()\n",
    "root.title(\"ch9_9\")\n",
    "cities = (\"新加坡\",\"上海\",\"東京\")       # 以元組儲存數值\n",
    "\n",
    "sp = Spinbox(root,\n",
    "             values=cities,    \n",
    "             command=printInfo)\n",
    "sp.pack(pady=10,padx=10)\n",
    "\n",
    "root.mainloop()"
   ]
  }
 ],
 "metadata": {
  "interpreter": {
   "hash": "b3ba2566441a7c06988d0923437866b63cedc61552a5af99d1f4fb67d367b25f"
  },
  "kernelspec": {
   "display_name": "Python 3.7.4 ('base')",
   "language": "python",
   "name": "python3"
  },
  "language_info": {
   "codemirror_mode": {
    "name": "ipython",
    "version": 3
   },
   "file_extension": ".py",
   "mimetype": "text/x-python",
   "name": "python",
   "nbconvert_exporter": "python",
   "pygments_lexer": "ipython3",
   "version": "3.7.4"
  },
  "orig_nbformat": 4
 },
 "nbformat": 4,
 "nbformat_minor": 2
}
