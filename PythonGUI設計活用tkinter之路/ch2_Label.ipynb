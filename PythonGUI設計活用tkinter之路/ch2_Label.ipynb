{
 "cells": [
  {
   "cell_type": "code",
   "execution_count": 1,
   "metadata": {},
   "outputs": [
    {
     "name": "stdout",
     "output_type": "stream",
     "text": [
      "<class 'tkinter.Label'>\n",
      "['activebackground', 'activeforeground', 'anchor', 'background', 'bd', 'bg', 'bitmap', 'borderwidth', 'compound', 'cursor', 'disabledforeground', 'fg', 'font', 'foreground', 'height', 'highlightbackground', 'highlightcolor', 'highlightthickness', 'image', 'justify', 'padx', 'pady', 'relief', 'state', 'takefocus', 'text', 'textvariable', 'underline', 'width', 'wraplength']\n"
     ]
    }
   ],
   "source": [
    "# ch2_1.py\n",
    "from tkinter import *\n",
    "\n",
    "root = Tk()\n",
    "root.title(\"ch2_1\")\n",
    "label=Label(root,text=\"I like tkinter\")\n",
    "label.pack()        # 包裝與定位元件\n",
    "print(type(label))  # 傳回Label物件\n",
    "print(label.keys())\n",
    "\n",
    "root.mainloop()"
   ]
  },
  {
   "cell_type": "code",
   "execution_count": 2,
   "metadata": {},
   "outputs": [],
   "source": [
    "# ch2_2_1.py\n",
    "from tkinter import *\n",
    "\n",
    "root = Tk()\n",
    "root.title(\"ch2_2_1\")\n",
    "Label(root,text=\"I like tkinter\").pack()  \n",
    "\n",
    "root.mainloop()"
   ]
  },
  {
   "cell_type": "code",
   "execution_count": 3,
   "metadata": {},
   "outputs": [
    {
     "name": "stdout",
     "output_type": "stream",
     "text": [
      "<class 'NoneType'>\n"
     ]
    }
   ],
   "source": [
    "# ch2_2.py\n",
    "from tkinter import *\n",
    "\n",
    "root = Tk()\n",
    "root.title(\"ch2_2\")\n",
    "label=Label(root,text=\"I like tkinter\").pack()\n",
    "print(type(label))  # 傳回Label物件\n",
    "\n",
    "root.mainloop()"
   ]
  },
  {
   "cell_type": "code",
   "execution_count": 4,
   "metadata": {},
   "outputs": [],
   "source": [
    "# ch2_3.py\n",
    "from tkinter import *\n",
    "\n",
    "root = Tk()\n",
    "root.title(\"ch2_3\")\n",
    "label=Label(root,text=\"I like tkinter\",\n",
    "            fg=\"blue\",bg=\"yellow\")\n",
    "label.pack()  \n",
    "\n",
    "root.mainloop()"
   ]
  },
  {
   "cell_type": "code",
   "execution_count": 5,
   "metadata": {},
   "outputs": [],
   "source": [
    "# ch2_4.py\n",
    "from tkinter import *\n",
    "\n",
    "root = Tk()\n",
    "root.title(\"ch2_4\")\n",
    "label=Label(root,text=\"I like tkinter\",\n",
    "            fg=\"blue\",bg=\"yellow\",\n",
    "            height=30,width=150)\n",
    "label.pack()  \n",
    "\n",
    "root.mainloop()"
   ]
  },
  {
   "cell_type": "code",
   "execution_count": 6,
   "metadata": {},
   "outputs": [],
   "source": [
    "# ch2_5.py\n",
    "from tkinter import *\n",
    "\n",
    "root = Tk()\n",
    "root.title(\"ch2_5\")\n",
    "label=Label(root,text=\"I like tkinter\",\n",
    "            fg=\"blue\",bg=\"yellow\",\n",
    "            height=30,width=150,\n",
    "            anchor=\"nw\")\n",
    "label.pack()  \n",
    "\n",
    "root.mainloop()"
   ]
  },
  {
   "cell_type": "code",
   "execution_count": 7,
   "metadata": {},
   "outputs": [],
   "source": [
    "# ch2_6_1.py\n",
    "from tkinter import *\n",
    "\n",
    "root = Tk()\n",
    "root.title(\"ch2_6_1\")\n",
    "label=Label(root,text=\"I like tkinter\",\n",
    "            fg=\"blue\",bg=\"yellow\",\n",
    "            height=30,width=150,\n",
    "            anchor=SE)\n",
    "label.pack()  \n",
    "\n",
    "root.mainloop()"
   ]
  },
  {
   "cell_type": "code",
   "execution_count": 9,
   "metadata": {},
   "outputs": [],
   "source": [
    "# ch2_6.py\n",
    "from tkinter import *\n",
    "\n",
    "root = Tk()\n",
    "root.title(\"ch2_6\")\n",
    "label=Label(root,text=\"I like tkinter\",\n",
    "            fg=\"blue\",bg=\"yellow\",\n",
    "            height=30,width=150,\n",
    "            anchor=\"se\")\n",
    "label.pack()  \n",
    "\n",
    "root.mainloop()"
   ]
  },
  {
   "cell_type": "code",
   "execution_count": 10,
   "metadata": {},
   "outputs": [],
   "source": [
    "# ch2_7.py\n",
    "from tkinter import *\n",
    "\n",
    "root = Tk()\n",
    "root.title(\"ch2_7\")\n",
    "label=Label(root,text=\"I like tkinter\",\n",
    "            fg=\"blue\",bg=\"yellow\",\n",
    "            height=30,width=150,\n",
    "            anchor=\"nw\",\n",
    "            wraplength = 40)\n",
    "label.pack()  \n",
    "\n",
    "root.mainloop()"
   ]
  },
  {
   "cell_type": "code",
   "execution_count": 11,
   "metadata": {},
   "outputs": [],
   "source": [
    "# ch2_8_1.py\n",
    "from tkinter import *\n",
    "\n",
    "root = Tk()\n",
    "root.title(\"ch2_8_1\")\n",
    "label=Label(root,text=\"I like tkinter\",\n",
    "            fg=\"blue\",bg=\"yellow\",\n",
    "            height=30,width=75,\n",
    "            font=(\"Helvetica\",20,\"bold\"))\n",
    "label.pack()\n",
    "\n",
    "root.mainloop()"
   ]
  },
  {
   "cell_type": "code",
   "execution_count": 12,
   "metadata": {},
   "outputs": [],
   "source": [
    "# ch2_8.py\n",
    "from tkinter import *\n",
    "\n",
    "root = Tk()\n",
    "root.title(\"ch2_8\")\n",
    "label=Label(root,text=\"I like tkinter\",\n",
    "            fg=\"blue\",bg=\"yellow\",\n",
    "            height=3,width=15,\n",
    "            font=\"Helvetica 20 bold\")\n",
    "label.pack()  \n",
    "\n",
    "root.mainloop()"
   ]
  },
  {
   "cell_type": "code",
   "execution_count": 13,
   "metadata": {},
   "outputs": [],
   "source": [
    "# ch2_9.py\n",
    "from tkinter import *\n",
    "\n",
    "root = Tk()\n",
    "root.title(\"ch2_9\")\n",
    "label=Label(root,text=\"abcdefghijklmnopqrstuvwy\",\n",
    "            fg=\"blue\",bg=\"lightyellow\",\n",
    "            wraplength=80)\n",
    "label.pack()  \n",
    "\n",
    "root.mainloop()"
   ]
  },
  {
   "cell_type": "code",
   "execution_count": 14,
   "metadata": {},
   "outputs": [],
   "source": [
    "# ch2_10.py\n",
    "from tkinter import *\n",
    "\n",
    "root = Tk()\n",
    "root.title(\"ch2_10\")\n",
    "label=Label(root,text=\"abcdefghijklmnopqrstuvwy\",\n",
    "            fg=\"blue\",bg=\"lightyellow\",\n",
    "            wraplength=80,\n",
    "            justify=\"left\")\n",
    "label.pack()  \n",
    "\n",
    "root.mainloop()"
   ]
  },
  {
   "cell_type": "code",
   "execution_count": 15,
   "metadata": {},
   "outputs": [],
   "source": [
    "# ch2_11.py\n",
    "from tkinter import *\n",
    "\n",
    "root = Tk()\n",
    "root.title(\"ch2_11\")\n",
    "label=Label(root,text=\"abcdefghijklmnopqrstuvwy\",\n",
    "            fg=\"blue\",bg=\"lightyellow\",\n",
    "            wraplength=80,\n",
    "            justify=\"center\")\n",
    "label.pack()  \n",
    "\n",
    "root.mainloop()"
   ]
  },
  {
   "cell_type": "code",
   "execution_count": 16,
   "metadata": {},
   "outputs": [],
   "source": [
    "# ch2_12.py\n",
    "from tkinter import *\n",
    "\n",
    "root = Tk()\n",
    "root.title(\"ch2_12\")\n",
    "label=Label(root,text=\"abcdefghijklmnopqrstuvwy\",\n",
    "            fg=\"blue\",bg=\"lightyellow\",\n",
    "            wraplength=80,\n",
    "            justify=\"right\")\n",
    "label.pack()  \n",
    "\n",
    "root.mainloop()"
   ]
  },
  {
   "cell_type": "code",
   "execution_count": null,
   "metadata": {},
   "outputs": [],
   "source": [
    "# ch2_13.py\n",
    "from tkinter import *\n",
    "\n",
    "root = Tk()\n",
    "root.title(\"ch2_13\")\n",
    "label=Label(root,bitmap=\"hourglass\")\n",
    "label.pack()  \n",
    "\n",
    "root.mainloop()"
   ]
  },
  {
   "cell_type": "code",
   "execution_count": 17,
   "metadata": {},
   "outputs": [],
   "source": [
    "# ch2_14.py\n",
    "from tkinter import *\n",
    "\n",
    "root = Tk()\n",
    "root.title(\"ch2_14\")\n",
    "label=Label(root,bitmap=\"hourglass\",\n",
    "            compound=\"left\",text=\"我的天空今天有點灰\")\n",
    "label.pack()  \n",
    "\n",
    "root.mainloop()"
   ]
  },
  {
   "cell_type": "code",
   "execution_count": 18,
   "metadata": {},
   "outputs": [],
   "source": [
    "# ch2_15.py\n",
    "from tkinter import *\n",
    "\n",
    "root = Tk()\n",
    "root.title(\"ch2_15\")\n",
    "label=Label(root,bitmap=\"hourglass\",\n",
    "            compound=\"top\",text=\"我的天空\")\n",
    "label.pack()  \n",
    "\n",
    "root.mainloop()"
   ]
  },
  {
   "cell_type": "code",
   "execution_count": 19,
   "metadata": {},
   "outputs": [],
   "source": [
    "# ch2_16.py\n",
    "from tkinter import *\n",
    "\n",
    "root = Tk()\n",
    "root.title(\"ch2_16\")\n",
    "label=Label(root,bitmap=\"hourglass\",\n",
    "            compound=\"center\",text=\"我的天空\")\n",
    "label.pack()  \n",
    "\n",
    "root.mainloop()"
   ]
  },
  {
   "cell_type": "code",
   "execution_count": 20,
   "metadata": {},
   "outputs": [],
   "source": [
    "# ch2_17.py\n",
    "from tkinter import *\n",
    "\n",
    "root = Tk()\n",
    "root.title(\"ch2_17\")\n",
    "\n",
    "label=Label(root,text=\"raised\",relief=\"raised\")\n",
    "label.pack()\n",
    "\n",
    "root.mainloop()"
   ]
  },
  {
   "cell_type": "code",
   "execution_count": 21,
   "metadata": {},
   "outputs": [],
   "source": [
    "# ch2_18.py\n",
    "from tkinter import *\n",
    "\n",
    "root = Tk()\n",
    "root.title(\"ch2_18\")\n",
    "\n",
    "label=Label(root,text=\"raised\",relief=\"raised\",\n",
    "            bg=\"lightyellow\",\n",
    "            padx=5,pady=10)\n",
    "label.pack()\n",
    "\n",
    "root.mainloop()"
   ]
  },
  {
   "cell_type": "code",
   "execution_count": 1,
   "metadata": {},
   "outputs": [
    {
     "name": "stdout",
     "output_type": "stream",
     "text": [
      "<class 'PIL.ImageTk.PhotoImage'>\n"
     ]
    }
   ],
   "source": [
    "# ch2_19_1.py\n",
    "from tkinter import *\n",
    "from PIL import Image, ImageTk\n",
    "\n",
    "import os\n",
    "dirname = os.getcwd()\n",
    "\n",
    "root = Tk()\n",
    "root.title(\"ch2_19_1\")\n",
    "root.geometry(\"680x400\")\n",
    "\n",
    "image = Image.open(dirname+\"/ch2_Label/yellowstone.jpg\")\n",
    "yellowstone = ImageTk.PhotoImage(image)\n",
    "print(type(yellowstone))\n",
    "label = Label(root,image=yellowstone)\n",
    "label.pack()\n",
    "\n",
    "root.mainloop()"
   ]
  },
  {
   "cell_type": "code",
   "execution_count": 3,
   "metadata": {},
   "outputs": [],
   "source": [
    "# ch2_19.py\n",
    "from tkinter import *\n",
    "\n",
    "import os\n",
    "dirname = os.getcwd()\n",
    "\n",
    "root = Tk()\n",
    "root.title(\"ch2_19\")\n",
    "\n",
    "html_gif = PhotoImage(file=dirname+'/ch2_Label/html.gif')\n",
    "label=Label(root,image=html_gif)\n",
    "label.pack()\n",
    "\n",
    "root.mainloop()"
   ]
  },
  {
   "cell_type": "code",
   "execution_count": 4,
   "metadata": {},
   "outputs": [],
   "source": [
    "# ch2_20.py\n",
    "from tkinter import *\n",
    "\n",
    "import os\n",
    "dirname = os.getcwd()\n",
    "\n",
    "root = Tk()\n",
    "root.title(\"ch2_20\")\n",
    "sseText = \"\"\"SSE全名是Silicon Stone Education,這家公司在美國,\n",
    "這是國際專業證照公司,產品多元與豐富.\"\"\"\n",
    "\n",
    "sse_gif = PhotoImage(file=dirname+'/ch2_Label/sse.gif')\n",
    "label=Label(root,text=sseText,image=sse_gif,bg=\"lightyellow\",\n",
    "            compound=\"left\", font=(\"Arial\", 25))\n",
    "label.pack()\n",
    "\n",
    "root.mainloop()"
   ]
  },
  {
   "cell_type": "code",
   "execution_count": 6,
   "metadata": {},
   "outputs": [],
   "source": [
    "# ch2_21.py\n",
    "from tkinter import *\n",
    "\n",
    "import os\n",
    "\n",
    "dirname = os.getcwd()\n",
    "\n",
    "root = Tk()\n",
    "root.title(\"ch2_21\")\n",
    "sseText = \"\"\"SSE全名是Silicon Stone Education,這家公司在美國,\n",
    "這是國際專業證照公司,產品多元與豐富.\"\"\"\n",
    "sse_gif = PhotoImage(file=dirname+\"/ch2_Label/sse.gif\")\n",
    "label=Label(root,text=sseText,image=sse_gif,bg=\"lightyellow\",\n",
    "            justify=\"left\",compound=\"right\")\n",
    "label.pack()\n",
    "\n",
    "root.mainloop()"
   ]
  },
  {
   "cell_type": "code",
   "execution_count": 8,
   "metadata": {},
   "outputs": [],
   "source": [
    "# ch2_22.py\n",
    "from tkinter import *\n",
    "\n",
    "import os\n",
    "dirname = os.getcwd()\n",
    "\n",
    "root = Tk()\n",
    "root.title(\"ch2_22\")\n",
    "sseText = \"\"\"SSE全名是Silicon Stone Education,這家公司在美國,\n",
    "這是國際專業證照公司,產品多元與豐富.\"\"\"\n",
    "sse_gif = PhotoImage(file=dirname+\"/ch2_Label/sse.gif\")\n",
    "label=Label(root,text=sseText,image=sse_gif,bg=\"lightyellow\",\n",
    "            compound=\"center\")\n",
    "label.pack()\n",
    "\n",
    "root.mainloop()"
   ]
  },
  {
   "cell_type": "code",
   "execution_count": 9,
   "metadata": {},
   "outputs": [],
   "source": [
    "# ch2_23.py\n",
    "from tkinter import *\n",
    "\n",
    "counter = 0                                 # 計數的全域變數\n",
    "def run_counter(digit):                     # 數字變數內容的更動\n",
    "    def counting():                         # 更動數字方法\n",
    "        global counter\n",
    "        counter += 1                        # 定義這是全域變數\n",
    "        digit.config(text=str(counter))     # 列出標籤數字內容\n",
    "        digit.after(1000,counting)          # 隔一秒後呼叫counting\n",
    "    counting()                              # 啟動呼叫\n",
    "\n",
    "root = Tk()\n",
    "root.title(\"ch2_23\")\n",
    "digit=Label(root,bg=\"yellow\",fg=\"blue\",     # 黃底藍字\n",
    "            height=3,width=10,              # 寬10高3\n",
    "            font=\"Helvetic 20 bold\")        # 字型設定\n",
    "digit.pack()\n",
    "run_counter(digit)                          # 呼叫數字更動方法\n",
    "\n",
    "root.mainloop()"
   ]
  },
  {
   "cell_type": "code",
   "execution_count": 10,
   "metadata": {},
   "outputs": [
    {
     "name": "stderr",
     "output_type": "stream",
     "text": [
      "invalid command name \"140476504482304counting\"\n",
      "    while executing\n",
      "\"140476504482304counting\"\n",
      "    (\"after\" script)\n"
     ]
    }
   ],
   "source": [
    "# ch2_24.py\n",
    "from tkinter import *\n",
    "\n",
    "root = Tk()\n",
    "root.title(\"ch2_24\")\n",
    "\n",
    "label=Label(root,text=\"raised\",relief=\"raised\",\n",
    "            bg=\"lightyellow\",\n",
    "            padx=5,pady=10,\n",
    "            cursor=\"heart\")     # 滑鼠外形\n",
    "label.pack()\n",
    "\n",
    "root.mainloop()"
   ]
  },
  {
   "cell_type": "code",
   "execution_count": 11,
   "metadata": {},
   "outputs": [
    {
     "name": "stdout",
     "output_type": "stream",
     "text": [
      "['activebackground', 'activeforeground', 'anchor', 'background', 'bd', 'bg', 'bitmap', 'borderwidth', 'compound', 'cursor', 'disabledforeground', 'fg', 'font', 'foreground', 'height', 'highlightbackground', 'highlightcolor', 'highlightthickness', 'image', 'justify', 'padx', 'pady', 'relief', 'state', 'takefocus', 'text', 'textvariable', 'underline', 'width', 'wraplength']\n"
     ]
    }
   ],
   "source": [
    "# ch2_25.py\n",
    "from tkinter import *\n",
    "\n",
    "root = Tk()\n",
    "root.title(\"ch2_25\")\n",
    "label=Label(root,text=\"I like tkinter\")\n",
    "label.pack()        # 包裝與定位元件\n",
    "print(label.keys())\n",
    "\n",
    "root.mainloop()"
   ]
  },
  {
   "cell_type": "code",
   "execution_count": null,
   "metadata": {},
   "outputs": [],
   "source": [
    "# ch2_26.py\n",
    "from tkinter import *\n",
    "from tkinter.ttk import Separator\n",
    "\n",
    "root = Tk()\n",
    "root.title(\"ch2_26\")\n",
    "\n",
    "myTitle = \"一個人的極境旅行\"\n",
    "myContent = \"\"\"2016年12月,我一個人訂了機票和船票,\n",
    "開始我的南極旅行,飛機經杜拜再往阿根廷的烏斯懷雅,\n",
    "在此我登上郵輪開始我的南極之旅\"\"\"\n",
    "\n",
    "lab1 = Label(root,text=myTitle,\n",
    "             font=\"Helvetic 20 bold\")\n",
    "lab1.pack(padx=10,pady=10)\n",
    "\n",
    "sep = Separator(root,orient=HORIZONTAL)\n",
    "sep.pack(fill=X,padx=5)\n",
    "\n",
    "lab2 = Label(root,text=myContent)\n",
    "lab2.pack(padx=10,pady=10)\n",
    "\n",
    "root.mainloop()"
   ]
  }
 ],
 "metadata": {
  "interpreter": {
   "hash": "a25fe9fa6c27b95901d0edd5181fe5544d24e241def55442d39b65c508d23c47"
  },
  "kernelspec": {
   "display_name": "Python 3.9.7 ('base')",
   "language": "python",
   "name": "python3"
  },
  "language_info": {
   "codemirror_mode": {
    "name": "ipython",
    "version": 3
   },
   "file_extension": ".py",
   "mimetype": "text/x-python",
   "name": "python",
   "nbconvert_exporter": "python",
   "pygments_lexer": "ipython3",
   "version": "3.9.7"
  },
  "orig_nbformat": 4
 },
 "nbformat": 4,
 "nbformat_minor": 2
}
