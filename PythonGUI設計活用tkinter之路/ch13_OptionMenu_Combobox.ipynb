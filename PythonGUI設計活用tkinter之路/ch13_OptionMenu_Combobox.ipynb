{
 "cells": [
  {
   "cell_type": "code",
   "execution_count": 1,
   "metadata": {},
   "outputs": [],
   "source": [
    "# ch13_1.py\n",
    "from tkinter import *\n",
    "\n",
    "root = Tk()\n",
    "root.title(\"ch13_1\")                   # 視窗標題\n",
    "root.geometry(\"300x180\")\n",
    "\n",
    "var = StringVar(root)\n",
    "optionmenu = OptionMenu(root,var,\"Python\",\"Java\",\"C\")\n",
    "optionmenu.pack()\n",
    "\n",
    "root.mainloop()"
   ]
  },
  {
   "cell_type": "code",
   "execution_count": 2,
   "metadata": {},
   "outputs": [],
   "source": [
    "# ch13_2.py\n",
    "from tkinter import *\n",
    "\n",
    "root = Tk()\n",
    "root.title(\"ch13_2\")                        # 視窗標題\n",
    "root.geometry(\"300x180\")\n",
    "\n",
    "omTuple = (\"Python\",\"Java\",\"C\")             # tuple儲存表單項目\n",
    "var = StringVar(root)\n",
    "optionmenu = OptionMenu(root,var,*omTuple)  # 建立OptionMenu\n",
    "optionmenu.pack()\n",
    "\n",
    "root.mainloop()"
   ]
  },
  {
   "cell_type": "code",
   "execution_count": 3,
   "metadata": {},
   "outputs": [],
   "source": [
    "# ch13_3_1.py\n",
    "from tkinter import *\n",
    "\n",
    "root = Tk()\n",
    "root.title(\"ch13_3_1\")                        # 視窗標題\n",
    "root.geometry(\"300x180\")\n",
    "\n",
    "omTuple = (\"Python\",\"Java\",\"C\")             # tuple儲存表單項目\n",
    "var = StringVar(root)\n",
    "var.set(omTuple[0])                         # 建立預設選項\n",
    "optionmenu = OptionMenu(root,var,*omTuple)  # 建立OptionMenu\n",
    "optionmenu.pack()\n",
    "\n",
    "root.mainloop()"
   ]
  },
  {
   "cell_type": "code",
   "execution_count": 4,
   "metadata": {},
   "outputs": [],
   "source": [
    "# ch13_3.py\n",
    "from tkinter import *\n",
    "\n",
    "root = Tk()\n",
    "root.title(\"ch13_3\")                        # 視窗標題\n",
    "root.geometry(\"300x180\")\n",
    "\n",
    "omTuple = (\"Python\",\"Java\",\"C\")             # tuple儲存表單項目\n",
    "var = StringVar(root)\n",
    "var.set(\"Python\")                           # 建立預設選項\n",
    "optionmenu = OptionMenu(root,var,*omTuple)  # 建立OptionMenu\n",
    "optionmenu.pack()\n",
    "\n",
    "root.mainloop()"
   ]
  },
  {
   "cell_type": "code",
   "execution_count": 5,
   "metadata": {},
   "outputs": [],
   "source": [
    "# ch13_4.py\n",
    "from tkinter import *\n",
    "def printSelection():\n",
    "    print(\"The selection is : \", var.get())\n",
    "    \n",
    "root = Tk()\n",
    "root.title(\"ch13_4\")                        # 視窗標題\n",
    "root.geometry(\"300x180\")\n",
    "\n",
    "omTuple = (\"Python\",\"Java\",\"C\")             # tuple儲存表單項目\n",
    "var = StringVar(root)\n",
    "var.set(\"Python\")                           # 建立預設選項\n",
    "optionmenu = OptionMenu(root,var,*omTuple)  # 建立OptionMenu\n",
    "optionmenu.pack(pady=10)\n",
    "\n",
    "btn = Button(root,text=\"Print\",command=printSelection)\n",
    "btn.pack(pady=10,anchor=S,side=BOTTOM)\n",
    "\n",
    "root.mainloop()"
   ]
  },
  {
   "cell_type": "code",
   "execution_count": 6,
   "metadata": {},
   "outputs": [],
   "source": [
    "# ch13_5.py\n",
    "from tkinter import *\n",
    "from  tkinter.ttk  import *\n",
    " \n",
    "root = Tk()\n",
    "root.title(\"ch13_5\")                        # 視窗標題\n",
    "root.geometry(\"300x120\")                    \n",
    "\n",
    "var = StringVar()       \n",
    "cb = Combobox(root,textvariable=var,        # 建立Combobox\n",
    "              value=(\"Python\",\"Java\",\"C#\",\"C\"))   \n",
    "cb.pack(pady=10)\n",
    "\n",
    "root.mainloop()"
   ]
  },
  {
   "cell_type": "code",
   "execution_count": 7,
   "metadata": {},
   "outputs": [],
   "source": [
    "# ch13_6.py\n",
    "from tkinter import *\n",
    "from  tkinter.ttk  import *\n",
    " \n",
    "root = Tk()\n",
    "root.title(\"ch13_6\")                        # 視窗標題\n",
    "root.geometry(\"300x120\")                    \n",
    "\n",
    "var = StringVar()       \n",
    "cb = Combobox(root,textvariable=var)        # 建立Combobox\n",
    "cb[\"value\"] = (\"Python\",\"Java\",\"C#\",\"C\")    # 設定選項內容  \n",
    "cb.pack(pady=10)\n",
    "\n",
    "root.mainloop()"
   ]
  },
  {
   "cell_type": "code",
   "execution_count": 8,
   "metadata": {},
   "outputs": [],
   "source": [
    "# ch13_7.py\n",
    "from tkinter import *\n",
    "from  tkinter.ttk  import *\n",
    " \n",
    "root = Tk()\n",
    "root.title(\"ch13_7\")                        # 視窗標題\n",
    "root.geometry(\"300x120\")                    \n",
    "\n",
    "var = StringVar()       \n",
    "cb = Combobox(root,textvariable=var)        # 建立Combobox\n",
    "cb[\"value\"] = (\"Python\",\"Java\",\"C#\",\"C\")    # 設定選項內容\n",
    "cb.current(0)                               # 設定預設選項\n",
    "cb.pack(pady=10)\n",
    "\n",
    "root.mainloop()"
   ]
  },
  {
   "cell_type": "code",
   "execution_count": 9,
   "metadata": {},
   "outputs": [],
   "source": [
    "# ch13_8.py\n",
    "from tkinter import *\n",
    "from  tkinter.ttk  import *\n",
    " \n",
    "root = Tk()\n",
    "root.title(\"ch13_8\")                        # 視窗標題\n",
    "root.geometry(\"300x120\")                    \n",
    "\n",
    "var = StringVar()       \n",
    "cb = Combobox(root,textvariable=var)        # 建立Combobox\n",
    "cb[\"value\"] = (\"Python\",\"Java\",\"C#\",\"C\")    # 設定選項內容\n",
    "var.set(\"Python\")                           # 設定預設選項\n",
    "cb.pack(pady=10)\n",
    "\n",
    "root.mainloop()"
   ]
  },
  {
   "cell_type": "code",
   "execution_count": 10,
   "metadata": {},
   "outputs": [],
   "source": [
    "# ch13_9.py\n",
    "from tkinter import *\n",
    "from  tkinter.ttk  import *\n",
    "def printSelection():                               # 列印選項\n",
    "    print(var.get())\n",
    "    \n",
    "root = Tk()\n",
    "root.title(\"ch13_9\")                                # 視窗標題\n",
    "root.geometry(\"300x120\")                    \n",
    "\n",
    "var = StringVar()       \n",
    "cb = Combobox(root,textvariable=var)                # 建立Combobox\n",
    "cb[\"value\"] = (\"Python\",\"Java\",\"C#\",\"C\")            # 設定選項內容\n",
    "cb.current(0)                                       # 設定預設選項\n",
    "cb.pack(pady=10)\n",
    "\n",
    "btn = Button(root,text=\"Print\",command=printSelection) # 建立按鈕\n",
    "btn.pack(pady=10,anchor=S,side=BOTTOM)\n",
    "\n",
    "root.mainloop()"
   ]
  },
  {
   "cell_type": "code",
   "execution_count": 11,
   "metadata": {},
   "outputs": [],
   "source": [
    "# ch13_10.py\n",
    "from tkinter import *\n",
    "from  tkinter.ttk  import *\n",
    "def comboSelection(event):                      # 顯示選項\n",
    "    labelVar.set(var.get())                     # 同步標籤內容                      \n",
    "    \n",
    "root = Tk()\n",
    "root.title(\"ch13_10\")                           # 視窗標題\n",
    "root.geometry(\"300x120\")                    \n",
    "\n",
    "var = StringVar()       \n",
    "cb = Combobox(root,textvariable=var)            # 建立Combobox\n",
    "cb[\"value\"] = (\"Python\",\"Java\",\"C#\",\"C\")        # 設定選項內容\n",
    "cb.current(0)                                   # 設定預設選項\n",
    "cb.bind(\"<<ComboboxSelected>>\",comboSelection)  # 綁定\n",
    "cb.pack(side=LEFT,pady=10,padx=10)\n",
    "\n",
    "labelVar = StringVar()\n",
    "label = Label(root,textvariable=labelVar)       # 建立Label\n",
    "labelVar.set(var.get())                         # 設定Label的初值\n",
    "label.pack(side=LEFT)\n",
    "\n",
    "root.mainloop()"
   ]
  }
 ],
 "metadata": {
  "interpreter": {
   "hash": "b3ba2566441a7c06988d0923437866b63cedc61552a5af99d1f4fb67d367b25f"
  },
  "kernelspec": {
   "display_name": "Python 3.7.4 ('base')",
   "language": "python",
   "name": "python3"
  },
  "language_info": {
   "codemirror_mode": {
    "name": "ipython",
    "version": 3
   },
   "file_extension": ".py",
   "mimetype": "text/x-python",
   "name": "python",
   "nbconvert_exporter": "python",
   "pygments_lexer": "ipython3",
   "version": "3.7.4"
  },
  "orig_nbformat": 4
 },
 "nbformat": 4,
 "nbformat_minor": 2
}
