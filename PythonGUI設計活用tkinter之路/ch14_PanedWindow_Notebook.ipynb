{
 "cells": [
  {
   "cell_type": "code",
   "execution_count": 1,
   "metadata": {},
   "outputs": [],
   "source": [
    "# ch14_1.py\n",
    "from tkinter import *\n",
    "    \n",
    "pw = PanedWindow(orient=VERTICAL)       # 建立PanedWindow物件\n",
    "pw.pack(fill=BOTH,expand=True)\n",
    "\n",
    "top = Label(pw,text=\"Top Pane\")         # 建立標籤Top Pane\n",
    "pw.add(top)                             # top標籤插入PanedWindow\n",
    "\n",
    "bottom = Label(pw,text=\"Bottom Pane\")   # 建立標籤Bottom Pane\n",
    "pw.add(bottom)                          # bottom標籤插入PanedWindow\n",
    "\n",
    "pw.mainloop()"
   ]
  },
  {
   "cell_type": "code",
   "execution_count": 2,
   "metadata": {},
   "outputs": [],
   "source": [
    "# ch14_2.py\n",
    "from tkinter import *\n",
    "\n",
    "root = Tk()\n",
    "root.title(\"ch14_2\")\n",
    "\n",
    "pw = PanedWindow(orient=HORIZONTAL)     # 建立PanedWindow物件\n",
    "\n",
    "leftframe = LabelFrame(pw,text=\"Left Pane\",width=120,height=150)\n",
    "pw.add(leftframe)                       # 插入左邊LabelFrame\n",
    "middleframe = LabelFrame(pw,text=\"Middle Pane\",width=120)\n",
    "pw.add(middleframe)                     # 插入中間LabelFrame\n",
    "rightframe = LabelFrame(pw,text=\"Right Pane\",width=120)\n",
    "pw.add(rightframe)                      # 插入右邊LabelFrame\n",
    "\n",
    "pw.pack(fill=BOTH,expand=True,padx=10,pady=10)     \n",
    "\n",
    "root.mainloop()"
   ]
  },
  {
   "cell_type": "code",
   "execution_count": 3,
   "metadata": {},
   "outputs": [],
   "source": [
    "# ch14_3.py\n",
    "from tkinter import *\n",
    "from tkinter.ttk import *\n",
    "\n",
    "root = Tk()\n",
    "root.title(\"ch14_3\")\n",
    "\n",
    "pw = PanedWindow(orient=HORIZONTAL)     # 建立PanedWindow物件\n",
    "\n",
    "leftframe = LabelFrame(pw,text=\"Left Pane\",width=120,height=150)\n",
    "pw.add(leftframe,weight=1)              # 插入左邊LabelFrame\n",
    "middleframe = LabelFrame(pw,text=\"Middle Pane\",width=120)\n",
    "pw.add(middleframe,weight=1)            # 插入中間LabelFrame\n",
    "rightframe = LabelFrame(pw,text=\"Right Pane\",width=120)\n",
    "pw.add(rightframe,weight=1)             # 插入右邊LabelFrame\n",
    "\n",
    "pw.pack(fill=BOTH,expand=True,padx=10,pady=10)     \n",
    "\n",
    "root.mainloop()"
   ]
  },
  {
   "cell_type": "code",
   "execution_count": 4,
   "metadata": {},
   "outputs": [],
   "source": [
    "# ch14_4.py\n",
    "from tkinter import *\n",
    "from tkinter.ttk import *\n",
    "\n",
    "root = Tk()\n",
    "root.title(\"ch14_4\")\n",
    "\n",
    "pw = PanedWindow(orient=HORIZONTAL)     # 建立PanedWindow物件\n",
    "\n",
    "leftframe = LabelFrame(pw,text=\"Left Pane\",width=120,height=150)\n",
    "pw.add(leftframe,weight=2)              # 插入左邊LabelFrame\n",
    "middleframe = LabelFrame(pw,text=\"Middle Pane\",width=120)\n",
    "pw.add(middleframe,weight=2)            # 插入中間LabelFrame\n",
    "rightframe = LabelFrame(pw,text=\"Right Pane\",width=120)\n",
    "pw.add(rightframe,weight=1)             # 插入右邊LabelFrame\n",
    "\n",
    "pw.pack(fill=BOTH,expand=True,padx=10,pady=10)     \n",
    "\n",
    "root.mainloop()"
   ]
  },
  {
   "cell_type": "code",
   "execution_count": 5,
   "metadata": {},
   "outputs": [],
   "source": [
    "# ch14_5.py\n",
    "from tkinter import *\n",
    "\n",
    "pw = PanedWindow(orient=HORIZONTAL)     # 建立外層PanedWindow\n",
    "pw.pack(fill = BOTH,expand=True)\n",
    "\n",
    "entry = Entry(pw,bd=3)                  # 建立entry            \n",
    "pw.add(entry)                           # 這是外層PanedWindow的子物件\n",
    "\n",
    "# 建立PanedWindow物件pwin,這是外層PanedWindow的子物件\n",
    "pwin = PanedWindow(pw,orient=VERTICAL)  \n",
    "pw.add(pwin)                            \n",
    "# 建立Scale,這是pwin物件的子物件\n",
    "scale = Scale(pwin,orient=HORIZONTAL)   \n",
    "pwin.add(scale)                         \n",
    "\n",
    "pw.mainloop()"
   ]
  },
  {
   "cell_type": "code",
   "execution_count": 6,
   "metadata": {},
   "outputs": [],
   "source": [
    "# ch14_6.py\n",
    "from tkinter import *\n",
    "from tkinter.ttk import *\n",
    "\n",
    "root = Tk()\n",
    "root.title(\"ch14_6\")\n",
    "root.geometry(\"300x160\")\n",
    "\n",
    "notebook = Notebook(root)           # 建立Notebook\n",
    "\n",
    "frame1 = Frame()                    # 建立Frame1\n",
    "frame2 = Frame()                    # 建立Frame2\n",
    "\n",
    "notebook.add(frame1,text=\"頁次1\")   # 建立頁次1同時插入Frame1\n",
    "notebook.add(frame2,text=\"頁次2\")   # 建立頁次2同時插入Frame2\n",
    "notebook.pack(padx=10,pady=10,fill=BOTH,expand=TRUE)\n",
    "\n",
    "root.mainloop()"
   ]
  },
  {
   "cell_type": "code",
   "execution_count": 7,
   "metadata": {},
   "outputs": [],
   "source": [
    "# ch14_7.py\n",
    "from tkinter import *\n",
    "from tkinter import messagebox\n",
    "from tkinter.ttk import *\n",
    "def msg():\n",
    "    messagebox.showinfo(\"Notebook\",\"歡迎使用Notebook\")\n",
    "\n",
    "root = Tk()\n",
    "root.title(\"ch14_7\")\n",
    "root.geometry(\"300x160\")\n",
    "\n",
    "notebook = Notebook(root)           # 建立Notebook\n",
    "\n",
    "frame1 = Frame()                    # 建立Frame1\n",
    "frame2 = Frame()                    # 建立Frame2\n",
    "\n",
    "label = Label(frame1,text=\"Python\") # 在Frame1建立標籤控件\n",
    "label.pack(padx=10,pady=10)\n",
    "btn = Button(frame2,text=\"Help\",command=msg) # 在Frame2建立按鈕控件\n",
    "btn.pack(padx=10,pady=10)\n",
    "\n",
    "notebook.add(frame1,text=\"頁次1\")   # 建立頁次1同時插入Frame1\n",
    "notebook.add(frame2,text=\"頁次2\")   # 建立頁次2同時插入Frame2\n",
    "notebook.pack(padx=10,pady=10,fill=BOTH,expand=TRUE)\n",
    "\n",
    "root.mainloop()"
   ]
  }
 ],
 "metadata": {
  "interpreter": {
   "hash": "b3ba2566441a7c06988d0923437866b63cedc61552a5af99d1f4fb67d367b25f"
  },
  "kernelspec": {
   "display_name": "Python 3.7.4 ('base')",
   "language": "python",
   "name": "python3"
  },
  "language_info": {
   "codemirror_mode": {
    "name": "ipython",
    "version": 3
   },
   "file_extension": ".py",
   "mimetype": "text/x-python",
   "name": "python",
   "nbconvert_exporter": "python",
   "pygments_lexer": "ipython3",
   "version": "3.7.4"
  },
  "orig_nbformat": 4
 },
 "nbformat": 4,
 "nbformat_minor": 2
}
